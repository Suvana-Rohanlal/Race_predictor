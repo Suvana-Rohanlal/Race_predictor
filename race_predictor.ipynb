{
  "nbformat": 4,
  "nbformat_minor": 0,
  "metadata": {
    "colab": {
      "provenance": [],
      "authorship_tag": "ABX9TyPg3Sk7JsPxVOyUqz6UoUVo",
      "include_colab_link": true
    },
    "kernelspec": {
      "name": "python3",
      "display_name": "Python 3"
    },
    "language_info": {
      "name": "python"
    }
  },
  "cells": [
    {
      "cell_type": "markdown",
      "metadata": {
        "id": "view-in-github",
        "colab_type": "text"
      },
      "source": [
        "<a href=\"https://colab.research.google.com/github/Suvana-Rohanlal/Race_predictor/blob/main/race_predictor.ipynb\" target=\"_parent\"><img src=\"https://colab.research.google.com/assets/colab-badge.svg\" alt=\"Open In Colab\"/></a>"
      ]
    },
    {
      "cell_type": "code",
      "execution_count": null,
      "metadata": {
        "id": "dOE35eVCcIi4"
      },
      "outputs": [],
      "source": [
        "!pip install fastf1 pandas numpy scikit-learn"
      ]
    },
    {
      "cell_type": "code",
      "source": [
        "import fastf1\n",
        "import pandas as pd\n",
        "import numpy as np\n",
        "from sklearn.model_selection import train_test_split\n",
        "from sklearn.ensemble import GradientBoostingRegressor\n",
        "from sklearn.metrics import mean_absolute_error"
      ],
      "metadata": {
        "id": "gv0ZSJZ_e5Sj"
      },
      "execution_count": null,
      "outputs": []
    },
    {
      "cell_type": "code",
      "source": [
        "# Enable FastF1 caching\n",
        "# fastf1.Cache.enable_cache(\"f1_cache\")\n",
        "\n",
        "# Load FastF1 2024 Australian GP race session\n",
        "session_2024 = fastf1.get_session(2024, 3, \"R\")\n",
        "# print(session_2024.event)\n",
        "session_2024.load()"
      ],
      "metadata": {
        "id": "BhGjaiLjfF3N"
      },
      "execution_count": null,
      "outputs": []
    },
    {
      "cell_type": "code",
      "source": [
        "# Extract lap times\n",
        "laps_2024 = session_2024.laps[[\"Driver\", \"LapTime\"]].copy()\n",
        "# Drop NA rows\n",
        "laps_2024.dropna(subset=[\"LapTime\"], inplace=True)\n",
        "# Create a column with the laptime in seconds\n",
        "laps_2024[\"LapTime (s)\"] = laps_2024[\"LapTime\"].dt.total_seconds()\n"
      ],
      "metadata": {
        "id": "6H3WdhbhgLRk"
      },
      "execution_count": null,
      "outputs": []
    },
    {
      "cell_type": "code",
      "source": [
        "driver_mapping = { \"Lando Norris\": \"NOR\", \"Oscar Piastri\": \"PIA\", \"Max Verstappen\": \"VER\", \"George Russell\": \"RUS\",\n",
        "                  \"Yuki Tsunoda\": \"TSU\", \"Alexander Albon\": \"ALB\", \"Charles Leclerc\": \"LEC\", \"Lewis Hamilton\": \"HAM\",\n",
        "                   \"Pierre Gasly\": \"GAS\", \"Carlos Sainz\": \"SAI\", \"Lance Stroll\": \"STR\", \"Fernando Alonso\": \"ALO\" }\n",
        "\n",
        "# Compute average race pace per driver from 2024\n",
        "driver_avg_times = laps_2024.groupby(\"Driver\")[\"LapTime (s)\"].mean().reset_index()\n",
        "driver_avg_times.rename(columns={\"LapTime (s)\": \"AvgRacePace_2024\"}, inplace=True)\n",
        "\n",
        "\n",
        "# Map FastF1 codes back to full names\n",
        "driver_mapping_rev = {v: k for k, v in driver_mapping.items()}  # invert your dict\n",
        "driver_avg_times[\"Driver\"] = driver_avg_times[\"Driver\"].map(driver_mapping_rev)\n",
        "\n",
        "# Keep only the 2025 drivers we care about\n",
        "drivers_2025 = list(driver_mapping.keys())\n",
        "avg_racepace_2024 = driver_avg_times[driver_avg_times[\"Driver\"].isin(drivers_2025)].reset_index(drop=True)\n",
        "\n",
        "# Final DataFrame in same style as qualifying_2025\n",
        "racepace_2024 = pd.DataFrame({\n",
        "    \"Driver\": avg_racepace_2024[\"Driver\"],\n",
        "    \"DriverCode\": avg_racepace_2024[\"Driver\"].map(driver_mapping),   # add 3-letter code\n",
        "    \"AvgRacePace_2024 (s)\": avg_racepace_2024[\"AvgRacePace_2024\"]\n",
        "})\n",
        "\n",
        "# Merge with 2024 averages\n",
        "merged_data = racepace_2024.merge(laps_2024, left_on=\"DriverCode\", right_on=\"Driver\", how=\"left\")\n",
        "print(merged_data)"
      ],
      "metadata": {
        "id": "jOH8JKNNly5s"
      },
      "execution_count": null,
      "outputs": []
    },
    {
      "cell_type": "code",
      "source": [
        "# # 2025 Qualifying Data\n",
        "# qualifying_2025 = pd.DataFrame({\n",
        "#     \"Driver\": [\"Lando Norris\", \"Oscar Piastri\", \"Max Verstappen\", \"George Russell\", \"Yuki Tsunoda\",\n",
        "#                \"Alexander Albon\", \"Charles Leclerc\", \"Lewis Hamilton\", \"Pierre Gasly\", \"Carlos Sainz\", \"Fernando Alonso\", \"Lance Stroll\"],\n",
        "#     \"QualifyingTime (s)\": [75.096, 75.180, 75.481, 75.546, 75.670,\n",
        "#                            75.737, 75.755, 75.973, 75.980, 76.062, 76.4, 76.5]\n",
        "# })\n",
        "\n",
        "# # Map full names to FastF1 3-letter codes\n",
        "# driver_mapping = {\n",
        "#     \"Lando Norris\": \"NOR\", \"Oscar Piastri\": \"PIA\", \"Max Verstappen\": \"VER\", \"George Russell\": \"RUS\",\n",
        "#     \"Yuki Tsunoda\": \"TSU\", \"Alexander Albon\": \"ALB\", \"Charles Leclerc\": \"LEC\", \"Lewis Hamilton\": \"HAM\",\n",
        "#     \"Pierre Gasly\": \"GAS\", \"Carlos Sainz\": \"SAI\", \"Lance Stroll\": \"STR\", \"Fernando Alonso\": \"ALO\"\n",
        "# }\n",
        "\n",
        "# qualifying_2025[\"DriverCode\"] = qualifying_2025[\"Driver\"].map(driver_mapping)\n",
        "\n",
        "# # Merge 2025 Qualifying Data with 2024 Race Data\n",
        "# merged_data = qualifying_2025.merge(laps_2024, left_on=\"DriverCode\", right_on=\"Driver\")\n",
        "# print(merged_data)"
      ],
      "metadata": {
        "id": "TKz1rN0AgN8u"
      },
      "execution_count": null,
      "outputs": []
    },
    {
      "cell_type": "code",
      "source": [
        "\n",
        "# Use only average 2024 pace as feature\n",
        "X = merged_data[[\"AvgRacePace_2024 (s)\"]]\n",
        "y = merged_data[\"LapTime (s)\"]\n",
        "\n",
        "# # Use only \"QualifyingTime (s)\" as a feature\n",
        "# X = merged_data[[\"QualifyingTime (s)\"]]\n",
        "# y = merged_data[\"LapTime (s)\"]\n",
        "\n",
        "if X.shape[0] == 0:\n",
        "    raise ValueError(\"Dataset is empty after preprocessing. Check data sources!\")"
      ],
      "metadata": {
        "id": "03s7Rp40lKA-"
      },
      "execution_count": null,
      "outputs": []
    },
    {
      "cell_type": "code",
      "source": [
        "# Train Gradient Boosting Model\n",
        "X_train, X_test, y_train, y_test = train_test_split(X, y, test_size=0.2, random_state=39)\n",
        "model = GradientBoostingRegressor(n_estimators=100, learning_rate=0.1, random_state=39)\n",
        "model.fit(X_train, y_train)\n"
      ],
      "metadata": {
        "id": "Pq6A4i0LlRhM"
      },
      "execution_count": null,
      "outputs": []
    },
    {
      "cell_type": "code",
      "source": [
        "# Predict 2025 race pace using 2024 averages\n",
        "predicted_lap_times = model.predict(racepace_2024[[\"AvgRacePace_2024 (s)\"]])\n",
        "racepace_2024[\"PredictedRaceTime (s)\"] = predicted_lap_times\n",
        "\n",
        "# # Predict using 2025 qualifying times\n",
        "# predicted_lap_times = model.predict(qualifying_2025[[\"QualifyingTime (s)\"]])\n",
        "# qualifying_2025[\"PredictedRaceTime (s)\"] = predicted_lap_times"
      ],
      "metadata": {
        "id": "rZ9f3JnaoVGo"
      },
      "execution_count": null,
      "outputs": []
    },
    {
      "cell_type": "code",
      "source": [
        "# Rank drivers by predicted race time\n",
        "racepace_2024 = racepace_2024.sort_values(by=\"PredictedRaceTime (s)\")\n",
        "\n",
        "# Print final predictions\n",
        "print(\"\\n🏁 Predicted 2025 Australia GP Winner 🏁\\n\")\n",
        "print(racepace_2024[[\"Driver\", \"PredictedRaceTime (s)\"]])\n",
        "\n",
        "# Evaluate Model\n",
        "y_pred = model.predict(X_test)\n",
        "print(f\"\\n🔍 Model Error (MAE): {mean_absolute_error(y_test, y_pred):.2f} seconds\")\n",
        "# Rank drivers by predicted race time\n",
        "# qualifying_2025 = qualifying_2025.sort_values(by=\"PredictedRaceTime (s)\")\n",
        "\n",
        "# # Print final predictions\n",
        "# print(\"\\n🏁 Predicted 2025 Chinese GP Winner 🏁\\n\")\n",
        "# print(qualifying_2025[[\"Driver\", \"PredictedRaceTime (s)\"]])\n",
        "\n",
        "# # Evaluate Model\n",
        "# y_pred = model.predict(X_test)\n",
        "# print(f\"\\n🔍 Model Error (MAE): {mean_absolute_error(y_test, y_pred):.2f} seconds\")"
      ],
      "metadata": {
        "id": "wpm0cUWToc2V"
      },
      "execution_count": null,
      "outputs": []
    }
  ]
}